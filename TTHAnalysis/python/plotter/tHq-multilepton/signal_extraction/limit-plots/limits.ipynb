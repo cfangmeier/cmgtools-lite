{
 "cells": [
  {
   "cell_type": "code",
   "execution_count": 1,
   "metadata": {
    "collapsed": false
   },
   "outputs": [],
   "source": [
    "import pandas as pd\n",
    "from functools import partial\n",
    "from ctcv_helper import print_table\n",
    "from ctcv_helper import read_dataframe\n",
    "from ctcv_helper import read_dataframe_ratio"
   ]
  },
  {
   "cell_type": "code",
   "execution_count": 2,
   "metadata": {
    "collapsed": false
   },
   "outputs": [],
   "source": [
    "# Read limits from csv files\n",
    "limits = {}\n",
    "for model in ['K4', 'K5', 'K6']:\n",
    "    df = pd.DataFrame.from_csv(\"Mar17/limits_comb3_%s_cv_0p5.csv\"%model, sep=\",\", index_col=None)\n",
    "    df = df.append(pd.DataFrame.from_csv(\"Mar17/limits_comb3_%s_cv_1p0.csv\"%model, sep=\",\", index_col=None), ignore_index=True)\n",
    "    df = df.append(pd.DataFrame.from_csv(\"Mar17/limits_comb3_%s_cv_1p5.csv\"%model, sep=\",\", index_col=None), ignore_index=True)\n",
    "    limits[model] = df"
   ]
  },
  {
   "cell_type": "code",
   "execution_count": 3,
   "metadata": {
    "collapsed": false
   },
   "outputs": [],
   "source": [
    "# Read the cross sections from csv files\n",
    "df_xsbr = {}\n",
    "df_br = {}\n",
    "df_xsecs = {}\n",
    "for model in ['K4', 'K5', 'K6']:\n",
    "    df_xsbr[model]  = pd.DataFrame.from_csv(\"xsbr_scalings_%s.csv\"%model, sep=\",\", index_col=None)\n",
    "    df_br[model]    = pd.DataFrame.from_csv(\"br_scalings_%s.csv\"%model,   sep=\",\", index_col=None)\n",
    "    df_xsecs[model] = pd.DataFrame.from_csv(\"xsecs_tH_ttH_%s.csv\"%model, sep=\",\", index_col=None)"
   ]
  },
  {
   "cell_type": "code",
   "execution_count": 12,
   "metadata": {
    "collapsed": false,
    "scrolled": false
   },
   "outputs": [
    {
     "name": "stdout",
     "output_type": "stream",
     "text": [
      " alpha  Ct/CV   CV=0.5  CV=1.0  CV=1.5\n",
      "-0.973 -6.000:  0.0356                 \n",
      "-0.941 -4.000:  0.0356                 \n",
      "-0.900 -3.000:  0.0708  0.0708         \n",
      "-0.862 -2.500:  0.1099                 \n",
      "-0.800 -2.000:  0.1821  0.1821  0.1821 \n",
      "-0.692 -1.500:  0.3325  0.3325         \n",
      "-0.640 -1.333:                  0.4185 \n",
      "-0.610 -1.250:          0.4678         \n",
      "-0.500 -1.000:  0.6763  0.6763  0.6763 \n",
      "-0.410 -0.833:                  0.8809 \n",
      "-0.360 -0.750:          1.0015         \n",
      "-0.308 -0.667:                  1.1416 \n",
      "-0.200 -0.500:  1.5073  1.5068  1.5068 \n",
      "-0.100 -0.333:                  1.9854 \n",
      "-0.059 -0.250:          2.2520         \n",
      "-0.027 -0.167:                  2.5498 \n",
      " 0.000  0.000:  3.3213  3.3213  3.3203 \n",
      " 0.027  0.167:                  4.3516 \n",
      " 0.059  0.250:          4.8672         \n",
      " 0.100  0.333:                  5.1895 \n",
      " 0.200  0.500:  4.4219  4.4219  4.4219 \n",
      " 0.308  0.667:                  2.8848 \n",
      " 0.360  0.750:          2.3262         \n",
      " 0.410  0.833:                  1.8906 \n",
      " 0.500  1.000:  1.2637  1.2637  1.2637 \n",
      " 0.610  1.250:          0.7612         \n",
      " 0.640  1.333:                  0.6587 \n",
      " 0.692  1.500:  0.4946  0.4946         \n",
      " 0.800  2.000:  0.2427  0.2427  0.2427 \n",
      " 0.862  2.500:  0.1372                 \n",
      " 0.900  3.000:  0.0854  0.0854         \n",
      " 0.941  4.000:  0.0405                 \n",
      " 0.973  6.000:  0.0405                 \n"
     ]
    }
   ],
   "source": [
    "# Print pure limits on r\n",
    "MOD = 'K6'\n",
    "print \" alpha  Ct/CV   CV=0.5  CV=1.0  CV=1.5\"\n",
    "print_table([partial(read_dataframe, df=limits[MOD], att='exp')],\n",
    "             linepat=\" %5.4f \")"
   ]
  },
  {
   "cell_type": "code",
   "execution_count": 14,
   "metadata": {
    "collapsed": false,
    "scrolled": false
   },
   "outputs": [
    {
     "name": "stdout",
     "output_type": "stream",
     "text": [
      " alpha  Ct/CV   CV=0.5  CV=1.0  CV=1.5\n",
      "-0.973 -6.000:  0.3168                 \n",
      "-0.941 -4.000:  0.3168                 \n",
      "-0.900 -3.000:  0.3136  0.3136         \n",
      "-0.862 -2.500:  0.3141                 \n",
      "-0.800 -2.000:  0.3104  0.3104  0.3104 \n",
      "-0.692 -1.500:  0.3068  0.3068         \n",
      "-0.640 -1.333:                  0.3068 \n",
      "-0.610 -1.250:          0.3043         \n",
      "-0.500 -1.000:  0.3002  0.3002  0.3002 \n",
      "-0.410 -0.833:                  0.2971 \n",
      "-0.360 -0.750:          0.2929         \n",
      "-0.308 -0.667:                  0.2884 \n",
      "-0.200 -0.500:  0.2803  0.2802  0.2802 \n",
      "-0.100 -0.333:                  0.2686 \n",
      "-0.059 -0.250:          0.2599         \n",
      "-0.027 -0.167:                  0.2517 \n",
      " 0.000  0.000:  0.2467  0.2467  0.2466 \n",
      " 0.027  0.167:                  0.2665 \n",
      " 0.059  0.250:          0.2868         \n",
      " 0.100  0.333:                  0.3081 \n",
      " 0.200  0.500:  0.3050  0.3050  0.3050 \n",
      " 0.308  0.667:                  0.2631 \n",
      " 0.360  0.750:          0.2498         \n",
      " 0.410  0.833:                  0.2407 \n",
      " 0.500  1.000:  0.2273  0.2273  0.2273 \n",
      " 0.610  1.250:          0.2241         \n",
      " 0.640  1.333:                  0.2261 \n",
      " 0.692  1.500:  0.2276  0.2276         \n",
      " 0.800  2.000:  0.2387  0.2387  0.2387 \n",
      " 0.862  2.500:  0.2498                 \n",
      " 0.900  3.000:  0.2584  0.2584         \n",
      " 0.941  4.000:  0.2698                 \n",
      " 0.973  6.000:  0.2698                 \n"
     ]
    }
   ],
   "source": [
    "# Print limit * cross section * BR\n",
    "def xs_limit(ct,cv):\n",
    "    # Take the cross section for cv=1.0, ct=ct/cv\n",
    "    xsec = read_dataframe(round(ct/cv,3), 1.0, df=df_xsecs[MOD], att='tot')\n",
    "    lim  = read_dataframe(ct, cv, df=limits[MOD], att='exp')\n",
    "    return float(xsec)*float(lim)\n",
    "\n",
    "print \" alpha  Ct/CV   CV=0.5  CV=1.0  CV=1.5\"\n",
    "print_table([xs_limit], linepat=\" %5.4f \")"
   ]
  },
  {
   "cell_type": "code",
   "execution_count": 16,
   "metadata": {
    "collapsed": false
   },
   "outputs": [
    {
     "name": "stdout",
     "output_type": "stream",
     "text": [
      "-0.973 -6.000:  8.8999                 \n",
      "-0.941 -4.000:  8.8999                 \n",
      "-0.900 -3.000:  4.4292  4.4292         \n",
      "-0.862 -2.500:  2.8584                 \n",
      "-0.800 -2.000:  1.7047  1.7047  1.7047 \n",
      "-0.692 -1.500:  0.9227  0.9227         \n",
      "-0.640 -1.333:                  0.7330 \n",
      "-0.610 -1.250:          0.6504         \n",
      "-0.500 -1.000:  0.4439  0.4439  0.4439 \n",
      "-0.410 -0.833:                  0.3373 \n",
      "-0.360 -0.750:          0.2925         \n",
      "-0.308 -0.667:                  0.2526 \n",
      "-0.200 -0.500:  0.1859  0.1859  0.1859 \n",
      "-0.100 -0.333:                  0.1353 \n",
      "-0.059 -0.250:          0.1154         \n",
      "-0.027 -0.167:                  0.0987 \n",
      " 0.000  0.000:  0.0743  0.0743  0.0743 \n",
      " 0.027  0.167:                  0.0612 \n",
      " 0.059  0.250:          0.0589         \n",
      " 0.100  0.333:                  0.0594 \n",
      " 0.200  0.500:  0.0690  0.0690  0.0690 \n",
      " 0.308  0.667:                  0.0912 \n",
      " 0.360  0.750:          0.1074         \n",
      " 0.410  0.833:                  0.1273 \n",
      " 0.500  1.000:  0.1799  0.1799  0.1799 \n",
      " 0.610  1.250:          0.2944         \n",
      " 0.640  1.333:                  0.3433 \n",
      " 0.692  1.500:  0.4601  0.4601         \n",
      " 0.800  2.000:  0.9834  0.9834  0.9834 \n",
      " 0.862  2.500:  1.8206                 \n",
      " 0.900  3.000:  3.0259  3.0259         \n",
      " 0.941  4.000:  6.6621                 \n",
      " 0.973  6.000:  6.6621                 \n"
     ]
    }
   ],
   "source": [
    "print_table([lambda ct,cv: read_dataframe(round(ct/cv,3), 1.0, df=df_xsecs[MOD], att='tot')], linepat=\" %5.4f \")"
   ]
  },
  {
   "cell_type": "code",
   "execution_count": null,
   "metadata": {
    "collapsed": true
   },
   "outputs": [],
   "source": []
  }
 ],
 "metadata": {
  "kernelspec": {
   "display_name": "Python 2",
   "language": "python",
   "name": "python2"
  },
  "language_info": {
   "codemirror_mode": {
    "name": "ipython",
    "version": 2
   },
   "file_extension": ".py",
   "mimetype": "text/x-python",
   "name": "python",
   "nbconvert_exporter": "python",
   "pygments_lexer": "ipython2",
   "version": "2.7.11"
  }
 },
 "nbformat": 4,
 "nbformat_minor": 0
}
